{
 "cells": [
  {
   "cell_type": "code",
   "execution_count": 1,
   "metadata": {},
   "outputs": [
    {
     "name": "stderr",
     "output_type": "stream",
     "text": [
      "/Users/ekin/Scenic/src/scenic/core/errors.py:271: UserWarning: unable to install sys.excepthook to format Scenic backtraces\n",
      "  warnings.warn(\"unable to install sys.excepthook to format Scenic backtraces\")\n"
     ]
    }
   ],
   "source": [
    "import scenic\n",
    "from scenic.simulators.newtonian import NewtonianSimulator\n",
    "from test_rule import rule2_spec\n",
    "from trimesh.transformations import compose_matrix\n",
    "import numpy as np\n",
    "import random\n",
    "\n",
    "MAX_STEPS = 100\n",
    "\n",
    "realization = {}\n",
    "realization['max_steps'] = MAX_STEPS\n",
    "\n",
    "\n",
    "\n",
    "random.seed(0)\n",
    "scenario = scenic.scenarioFromFile('test.scenic', model=\"scenic.simulators.newtonian.driving_model\", params={'use2DMap': True, 'realization': realization})\n",
    "scene, _ = scenario.generate()\n",
    "simulator = NewtonianSimulator()\n",
    "simulation = simulator.simulate(scene, maxSteps=MAX_STEPS)\n",
    "\n",
    "\n",
    "#print(realization)"
   ]
  },
  {
   "cell_type": "code",
   "execution_count": 2,
   "metadata": {},
   "outputs": [
    {
     "name": "stdout",
     "output_type": "stream",
     "text": [
      "60499.210239999775\n",
      "67035.13599999974\n",
      "73906.2374399997\n"
     ]
    }
   ],
   "source": [
    "rule2_spec(realization)"
   ]
  }
 ],
 "metadata": {
  "kernelspec": {
   "display_name": "scenic4rl",
   "language": "python",
   "name": "python3"
  },
  "language_info": {
   "codemirror_mode": {
    "name": "ipython",
    "version": 3
   },
   "file_extension": ".py",
   "mimetype": "text/x-python",
   "name": "python",
   "nbconvert_exporter": "python",
   "pygments_lexer": "ipython3",
   "version": "3.8.18"
  }
 },
 "nbformat": 4,
 "nbformat_minor": 2
}
