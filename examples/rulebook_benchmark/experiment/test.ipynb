{
 "cells": [
  {
   "cell_type": "code",
   "execution_count": 24,
   "metadata": {},
   "outputs": [],
   "source": [
    "import scenic\n",
    "from scenic.simulators.newtonian import NewtonianSimulator\n",
    "from test_rule import rule2_spec\n",
    "from trimesh.transformations import compose_matrix\n",
    "import numpy as np\n",
    "import random\n",
    "\n",
    "MAX_STEPS = 100\n",
    "\n",
    "realization = {}\n",
    "realization['max_steps'] = MAX_STEPS\n",
    "\n",
    "\n",
    "\n",
    "random.seed(0)\n",
    "scenario = scenic.scenarioFromFile('test.scenic', model=\"scenic.simulators.newtonian.driving_model\", params={'use2DMap': True, 'realization': realization})\n",
    "scene, _ = scenario.generate()\n",
    "simulator = NewtonianSimulator()\n",
    "simulation = simulator.simulate(scene, maxSteps=MAX_STEPS)\n",
    "\n",
    "\n",
    "#print(realization)"
   ]
  },
  {
   "cell_type": "code",
   "execution_count": 25,
   "metadata": {},
   "outputs": [
    {
     "data": {
      "text/plain": [
       "0"
      ]
     },
     "execution_count": 25,
     "metadata": {},
     "output_type": "execute_result"
    }
   ],
   "source": [
    "rule2_spec(realization)"
   ]
  },
  {
   "cell_type": "code",
   "execution_count": 26,
   "metadata": {},
   "outputs": [
    {
     "data": {
      "text/plain": [
       "[(128.67162754120235, -194.28524829802478, 0),\n",
       " (119.17165711458472, -194.30895258857362, 0.0)]"
      ]
     },
     "execution_count": 26,
     "metadata": {},
     "output_type": "execute_result"
    }
   ],
   "source": [
    "realization['trajectory'][0]['position']"
   ]
  }
 ],
 "metadata": {
  "kernelspec": {
   "display_name": "scenic4rl",
   "language": "python",
   "name": "python3"
  },
  "language_info": {
   "codemirror_mode": {
    "name": "ipython",
    "version": 3
   },
   "file_extension": ".py",
   "mimetype": "text/x-python",
   "name": "python",
   "nbconvert_exporter": "python",
   "pygments_lexer": "ipython3",
   "version": "3.8.18"
  }
 },
 "nbformat": 4,
 "nbformat_minor": 2
}
